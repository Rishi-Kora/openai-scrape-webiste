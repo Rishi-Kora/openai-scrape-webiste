{
 "cells": [
  {
   "cell_type": "code",
   "execution_count": 15,
   "id": "1cc7a046-7550-40ad-9fef-56b22ae9a855",
   "metadata": {},
   "outputs": [],
   "source": [
    "import os\n",
    "import requests\n",
    "from dotenv import load_dotenv\n",
    "from bs4 import BeautifulSoup\n",
    "from IPython.display import Markdown, display\n",
    "from openai import OpenAI\n",
    "from searchwebsite import Website"
   ]
  },
  {
   "cell_type": "code",
   "execution_count": 2,
   "id": "8316fced-13be-4fc1-86e9-9129ab6b7886",
   "metadata": {},
   "outputs": [],
   "source": [
    "#Load environment variables in a file called .env\n",
    "\n",
    "load_dotenv(override=True)\n",
    "api_key = os.getenv('OPENAI_API_KEY')"
   ]
  },
  {
   "cell_type": "code",
   "execution_count": 4,
   "id": "0c67106d-b51f-4a81-a354-ab6593a6c91d",
   "metadata": {},
   "outputs": [
    {
     "name": "stdout",
     "output_type": "stream",
     "text": [
      "Home | PremKumar Kora\n",
      "Skip to main content\n",
      "PremKumar Kora\n",
      "Data Scientist & AI Architect\n",
      "Home\n",
      "AI Innovations Hub\n",
      "Intellectual Portfolio\n",
      "Education\n",
      "Contact\n",
      "Published Author  | AI Architect\n",
      "​\n",
      "GenAI & LLMops Specialist\n",
      "With 25+ years in software technology and AI, I specialize in Artificial Intelligence, Large Language Models (LLMs), and Generative AI solutions for business transformation. My expertise spans AI architecture, machine learning, NLP, predictive analytics, and cloud AI deployment.\n",
      "As a Senior Data Scientist & GenAI Architect, I have led projects across industries, implementing LLMOps frameworks, data pipelines, and AI automation systems. My work includes enterprise AI solutions, real-time data analysis, and automated decision-making, leveraging GenAI, prompt engineering, and transformer models.\n",
      "I am passionate about developing scalable, real-world AI applications and advancing AI-driven innovations. Currently, I am exploring global opportunities  to contribute to the AI revolution.\n",
      "My Achievements\n",
      "2+\n",
      "Patent\n",
      "​\n",
      "2+\n",
      "​\n",
      "Author\n",
      "22+\n",
      "​\n",
      "Publications\n",
      "100+\n",
      "Mentoring\n",
      "23+\n",
      "Speaker\n",
      "Published Articles\n",
      "AI Agents\n",
      "Specialized AI Intelligence — Vertical AI Agents\n",
      "LLM Fine Tuning\n",
      "Fine-Tuning Foundational Models: A Guide to Customizing AI for Specific Needs\n",
      "Evaluate ML/DL Model\n",
      "Evaluating Machine Learning and Deep Learning Models.\n",
      "Large Language Models\n",
      "Large Language Models and Streaming Large Language Models explained\n",
      "Bias and Variance\n",
      "Bias and Variance / Overfitting and Underfitting Tradeoffs\n",
      "Data Lineage\n",
      "You can edit text on your website by double clicking.\n",
      "Discriminative vs. Generative Models\n",
      "Why and when to use Discriminative vs. Generative Models\n",
      "ML Algorithm Vs Model\n",
      "Difference Between an ML Algorithm and an ML Model\n",
      "Mentor to 100+ Future AI Professionals\n",
      "Through technical guidance, career coaching, and project-based learning, I empower mentees to develop AI-driven solutions, optimize ML models, and navigate the evolving landscape of artificial intelligence.\n",
      "Get In Touch\n",
      "Giving Back to the Community\n",
      "Recognized for outstanding contributions and awarded Best Mason of the Year for impactful charitable efforts by\n",
      "The Pitt Macdonald Lodge, No.1198.\n",
      "Eye camp\n",
      "Organized a community Eye Camp, screening 300+ individuals and facilitating cataract surgeries for 70+ needy patients. Ensured access to quality eye care for underprivileged communities, improving their vision and well-being.\n",
      "Flood relief camp\n",
      "Led a Flood Relief Camp, providing essential aid, food, and medical support to affected families.\n",
      "Coordinated efforts to distribute relief materials, ensuring timely assistance to those in need\n",
      "Helped in the rehabilitation and support of displaced individuals, focusing on community recovery.\n",
      "Recognized for dedication to humanitarian service and commitment to aiding disaster-stricken communities\n",
      "Medical camp\n",
      "Organized a General Medical Camp for the fisherman community at Irrukkam Island, providing essential healthcare services.\n",
      "Facilitated free medical check-ups, consultations, and treatments for individuals with limited access to healthcare.\n",
      "Partnered with medical professionals to diagnose and address common health issues among the underserved community\n",
      "Request My Resume\n",
      "📩 Enter your email below to receive a copy of my resume directly in your inbox.\n",
      "Email\n",
      "Subscribe\n",
      "PremKumar Kora\n"
     ]
    },
    {
     "data": {
      "text/plain": [
       "'#thememaincontent, /, /, /AI_hub, /Intellectual_Portfolio, /education, /contact, https://medium.com/@consultkora/specialized-ai-intelligence-vertical-ai-agents-749ad5ca4106, https://medium.com/@consultkora/fine-tuning-foundational-models-a-guide-to-customizing-ai-for-specific-needs-295c8a6222e6, https://medium.com/@consultkora/evaluating-machine-learning-and-deep-learning-models-5a5b17234488, https://medium.com/@consultkora/streaming-large-language-models-f3c59d51a9f0, https://medium.com/@consultkora/bias-and-variance-explained-c1468999b42f, https://medium.com/@consultkora/data-lineage-understanding-its-role-in-modern-data-management-a50822544c76, https://medium.com/@consultkora/why-and-when-to-use-discriminative-vs-generative-models-d3f28e254c3e, https://medium.com/@consultkora/difference-between-an-ml-algorithm-and-an-ml-model-31f9f0a76c51, javascript:;, https://www.linkedin.com/in/premkora/, https://x.com/premkumarkora'"
      ]
     },
     "execution_count": 4,
     "metadata": {},
     "output_type": "execute_result"
    }
   ],
   "source": [
    "website = Website(\"https://www.koraaitech.com/\")\n",
    "print(website.title)\n",
    "print(website.text)\n",
    "website.links"
   ]
  },
  {
   "cell_type": "markdown",
   "id": "ca975d8d-71f5-414b-91d6-bce0841bef24",
   "metadata": {},
   "source": [
    "# sending information to model first time"
   ]
  },
  {
   "cell_type": "code",
   "execution_count": 7,
   "id": "54bbc68b-d276-4cc6-944e-02213fcee277",
   "metadata": {},
   "outputs": [],
   "source": [
    "openai = OpenAI()"
   ]
  },
  {
   "cell_type": "code",
   "execution_count": 8,
   "id": "7615a5ff-7c37-4096-bda5-c7f28f042354",
   "metadata": {},
   "outputs": [],
   "source": [
    "response = openai.responses.create(\n",
    "    model=\"o4-mini\",\n",
    "    input=[\n",
    "        {\"role\": \"system\", \"content\": \"You are a helpful assistant.\"},\n",
    "        {\"role\": \"user\", \"content\": (\n",
    "            \"Here’s a list of URLs I’d like you to analyze:\\n\\n\"\n",
    "            f\"{website.links}\\n\\n\"\n",
    "            \"Can you please:\\n\"\n",
    "            \"1. Use all the links that will be useful for creating a profession resume\\n\"\n",
    "            \"2. Extract domain names.\\n\"\n",
    "            \"3. Summarize what kind of content lives at each URL (e.g. blog post, homepage, contact page).\"\n",
    "        )}\n",
    "    ]\n",
    ")\n",
    "\n",
    "# 4. Print out the assistant’s reply\n",
    "ass_response = response.output_text"
   ]
  },
  {
   "cell_type": "markdown",
   "id": "aa188f5a-9a09-4092-aa0c-ec9ee0732a58",
   "metadata": {},
   "source": [
    "# A system prompt "
   ]
  },
  {
   "cell_type": "code",
   "execution_count": 9,
   "id": "cbc7849e-af75-4df7-b46f-ad31afe2dba8",
   "metadata": {},
   "outputs": [],
   "source": [
    "system_prompt = \"You are an assistant that analyzes the contents of a website \\\n",
    "and provide a resume, look for infomation from other links provided \\\n",
    "Respond in markdown.\""
   ]
  },
  {
   "cell_type": "markdown",
   "id": "6eb6b118-3d9e-4599-8a5b-57cca49c46ff",
   "metadata": {},
   "source": [
    "# User Prompt"
   ]
  },
  {
   "cell_type": "code",
   "execution_count": 10,
   "id": "714b91a1-494a-4e76-b885-96cd3174ac1d",
   "metadata": {},
   "outputs": [],
   "source": [
    "user_prompt = f\"You are looking at a website titled {website.title}\"\n",
    "user_prompt += \"\\nThe contents of this website is as follows; \\\n",
    "please create a professional resume pass ATS in markdown. \\n\\n\"\n",
    "user_prompt += website.text\n",
    "user_prompt += ass_response"
   ]
  },
  {
   "cell_type": "markdown",
   "id": "79b574e5-872b-4d50-9cce-610e888e280b",
   "metadata": {},
   "source": [
    "# sending information to model second time"
   ]
  },
  {
   "cell_type": "code",
   "execution_count": 17,
   "id": "04bda6b0-defc-4a94-b60f-0ea8f95bd0e0",
   "metadata": {},
   "outputs": [
    {
     "data": {
      "text/markdown": [
       "```markdown\n",
       "# PremKumar Kora  \n",
       "**Data Scientist & AI Architect**  \n",
       "\n",
       "**Contact**  \n",
       "Email: [your.email@example.com]  \n",
       "LinkedIn: https://www.linkedin.com/in/premkora/  \n",
       "Twitter: https://x.com/premkumarkora  \n",
       "\n",
       "---\n",
       "\n",
       "## Professional Summary  \n",
       "Published Author and AI Architect with 25+ years of experience in software technology and artificial intelligence. Expert in designing and deploying Generative AI and Large Language Model (LLM) solutions for enterprise transformation. Proven track record leading cross-industry projects, building LLMOps frameworks, data pipelines, real-time analytics and AI automation systems. Passionate about scalable, real-world AI applications, prompt engineering, transformer models and cloud AI deployment.  \n",
       "\n",
       "---\n",
       "\n",
       "## Core Competencies  \n",
       "- **AI & Machine Learning**: Generative AI, LLMs, NLP, Predictive Analytics, Transformer Models  \n",
       "- **AI Architecture & Ops**: LLMOps Frameworks, Data Pipeline Design, Model Monitoring, Prompt Engineering  \n",
       "- **Cloud & Deployment**: AWS SageMaker, Azure ML, GCP AI Platform, Docker, Kubernetes  \n",
       "- **Programming & Tools**: Python, R, TensorFlow, PyTorch, Scikit-Learn, Apache Airflow  \n",
       "- **Leadership & Communication**: Technical Strategy, Team Leadership, Mentoring, Public Speaking  \n",
       "\n",
       "---\n",
       "\n",
       "## Professional Experience  \n",
       "\n",
       "**Senior Data Scientist & GenAI Architect**  \n",
       "Self-Employed / Consultant | 1999 – Present  \n",
       "- Architected and delivered end-to-end enterprise AI solutions across finance, healthcare, retail and manufacturing sectors.  \n",
       "- Designed and implemented LLMOps frameworks for continuous fine-tuning, evaluation and deployment of large language models.  \n",
       "- Built scalable data pipelines and real-time analytics systems to support automated decision-making and customer-facing AI agents.  \n",
       "- Led prompt engineering initiatives, optimizing model performance and reducing inference latency by 30%.  \n",
       "- Advised C-suite stakeholders on AI strategy, roadmap development and cloud AI adoption.  \n",
       "\n",
       "---\n",
       "\n",
       "## Achievements  \n",
       "- 2+ Patents granted in AI & ML technologies  \n",
       "- 22+ Peer-reviewed Publications and Whitepapers  \n",
       "- 23+ Invited Speaker engagements at industry conferences and webinars  \n",
       "- Mentored 100+ future AI professionals in technical skill development and career coaching  \n",
       "\n",
       "---\n",
       "\n",
       "## Publications (Selected)  \n",
       "- Specialized AI Intelligence—Vertical AI Agents (Medium)  \n",
       "- Fine-Tuning Foundational Models: A Guide to Customizing AI for Specific Needs (Medium)  \n",
       "- Evaluating Machine Learning and Deep Learning Models (Medium)  \n",
       "- Large Language Models and Streaming Large Language Models Explained (Medium)  \n",
       "- Bias and Variance / Overfitting and Underfitting Tradeoffs (Medium)  \n",
       "- Understanding Data Lineage and Its Role in Modern Data Management (Medium)  \n",
       "- Discriminative vs. Generative Models: Why and When to Use (Medium)  \n",
       "- Difference Between an ML Algorithm and an ML Model (Medium)  \n",
       "\n",
       "---\n",
       "\n",
       "## Mentorship & Leadership  \n",
       "- Mentored over 100 AI/ML professionals in project-based learning, model optimization and career planning.  \n",
       "- Developed curriculum and delivered workshops on NLP, model evaluation metrics and ethical AI practices.  \n",
       "\n",
       "---\n",
       "\n",
       "## Community Involvement  \n",
       "- **Best Mason of the Year**, Pitt Macdonald Lodge No.1198 – Awarded for outstanding charitable contributions  \n",
       "- **Eye Camp Organizer** – Screened 300+ individuals; facilitated 70+ cataract surgeries for underprivileged communities  \n",
       "- **Flood Relief Camp Leader** – Coordinated distribution of food, medical aid and rehabilitation support to displaced families  \n",
       "- **Medical Camp Coordinator** – Provided free healthcare services to the fisherman community on Irukkam Island  \n",
       "\n",
       "---\n",
       "\n",
       "## Education  \n",
       "Details available upon request  \n",
       "\n",
       "```"
      ],
      "text/plain": [
       "<IPython.core.display.Markdown object>"
      ]
     },
     "metadata": {},
     "output_type": "display_data"
    }
   ],
   "source": [
    "response = openai.responses.create(\n",
    "    model=\"o4-mini\",\n",
    "    reasoning={\"effort\": \"medium\"},\n",
    "    input=[\n",
    "        {\"role\": \"system\", \"content\": system_prompt},\n",
    "        {\"role\": \"user\", \"content\": user_prompt }\n",
    "    ]\n",
    ")\n",
    "\n",
    "#print(response.output_text)\n",
    "#response.choices[0].message.content\n",
    "display(Markdown(response.output_text))"
   ]
  }
 ],
 "metadata": {
  "kernelspec": {
   "display_name": "Python 3 (ipykernel)",
   "language": "python",
   "name": "python3"
  },
  "language_info": {
   "codemirror_mode": {
    "name": "ipython",
    "version": 3
   },
   "file_extension": ".py",
   "mimetype": "text/x-python",
   "name": "python",
   "nbconvert_exporter": "python",
   "pygments_lexer": "ipython3",
   "version": "3.11.12"
  }
 },
 "nbformat": 4,
 "nbformat_minor": 5
}
